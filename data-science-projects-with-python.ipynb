{
 "cells": [
  {
   "cell_type": "markdown",
   "id": "339bed80-c830-4a95-8d42-7804a6dca3d8",
   "metadata": {},
   "source": [
    "<h1>Data Science Projects with Python (Klosterman, Stephen)</h1>\n",
    "<h2>Data Exploration and Cleaning</h2>\n",
    "<p><strong>NumPy</strong> (<code>numpy</code>) provides fast numerical computation on arrays and matrices, while <strong>pandas</strong> (<code>pandas</code>) provides a wealth of data wrangling and exploration capabilities on tables of data called DataFrames.</p>\n",
    "<p>Much of your time as a data scientist is likely to be spent <strong>wrangling data</strong>: figuring out how to get it, getting it, examining it, making sure it's correct and complete, and joining it with other types of data.</p>\n",
    "<p>For <strong>predictive modelling</strong> use cases, data is typically organized in a tabular structure, with <strong>features</strong> and a <strong>response variable</strong>. For example, if you want to predict the price of a house based on some characteristics about it, such as area and number of bedrooms, these attributes would be considered the features and the price of the house would be the response variable. The response variable is sometimes called the <strong>target variable</strong> or <strong>dependent variable</strong>, while the features may also be called the <strong>independent variables</strong>.</p>\n",
    "<p>If you have a dataset of 1,000 houses, including the values of these features and the prices of the houses, you can say you have 1,000 <strong>samples of labelled data</strong>, where the labels are the known values of the response variable: the prices of different houses.</p>\n",
    "<p>Once you have trained a model to learn the relationship between the features and response using your labelled data, you can then use it to make predictions for houses where you don't know the price based on the information contained in the features. The goal of predictive modelling, in this case, is to be able to make a prediction that is close to the true value of the house. Since we are predicting a numerical value on a continuous scale, this is called a <strong>regression problem</strong>.</p>\n",
    "<p>On the other hand, if we were trying to make a qualitative prediction about the house, to answer a yes or no question such as \"Will this house go on sale within the next five years?\" or \"Will the owner default on the mortgage?\", we would be solving what is known as a <strong>classification problem</strong>.</p>\n",
    "<p>Classification and regression tasks are called <strong>supervised learning</strong>, which is a class of problems that relies on labelled data. These problems can be thought of as needing \"supervision\" by the known values of the target variable. By contrast, there is also <strong>unsupervised learning</strong>, which relates to more open-ended questions of trying to find some sort of structure in a dataset that does not necessarily have labels.</p>\n",
    "<p>A DataFrame is a foundational class in pandas. A DataFrame is similar to spreadsheets in many ways. There are rows, which are labelled by a row index, and columns, which are usually given column header-like labels that can be thought of as a column index. <strong>Index</strong> is, in fact, a data type in pandas used to store indices for a DataFrame, and columns have their own data type called <strong>Series</strong>.</p>\n",
    "<p>A <strong>data dictionary</strong> is a document that explains what the data owner thinks should be in the data, such as definitions of the column labels.</p>\n",
    "<p>A <strong>logical mask</strong>, also known as a <strong>Boolean mask</strong>, is a way to filter an array, or Series, by some condition. For example, we can use the \"is equal to\" operator in Python, ==, to find all locations of an array that contain a specific value. Other comparisons, such as \"greater than\" (&gt;), \"less than\" (&lt;), \"greater than or equal to\" (&gt;=), and \"less than or equal to\" (&lt;=), can be used similarly. The output of such a comparison is an array or Series of True/False values, also known as Boolean values. Each element of the output corresponds to an element of the input, is True if the condition is met, and is False otherwise.</p>"
   ]
  },
  {
   "cell_type": "code",
   "execution_count": null,
   "id": "38b85d72-914f-4def-844e-662008676d66",
   "metadata": {},
   "outputs": [],
   "source": []
  }
 ],
 "metadata": {
  "kernelspec": {
   "display_name": "Python 3 (ipykernel)",
   "language": "python",
   "name": "python3"
  },
  "language_info": {
   "codemirror_mode": {
    "name": "ipython",
    "version": 3
   },
   "file_extension": ".py",
   "mimetype": "text/x-python",
   "name": "python",
   "nbconvert_exporter": "python",
   "pygments_lexer": "ipython3",
   "version": "3.9.7"
  }
 },
 "nbformat": 4,
 "nbformat_minor": 5
}
