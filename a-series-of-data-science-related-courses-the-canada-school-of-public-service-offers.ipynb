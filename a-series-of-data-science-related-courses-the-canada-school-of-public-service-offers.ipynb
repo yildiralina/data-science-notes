{
 "cells": [
  {
   "cell_type": "markdown",
   "id": "339bed80-c830-4a95-8d42-7804a6dca3d8",
   "metadata": {},
   "source": [
    "<h1>A Series of Data Science-Related Courses the Canada School of Public Service Offers</h1>\n",
    "<h2>Data Terminology</h2>\n",
    "<p><strong>Information</strong> is when data has been converted into meaningful and valuable context.</p>\n",
    "<p><strong>Unstructured data</strong> is when data is not arranged according to a preset data model or schema and, therefore, cannot be stored in a traditional relational database or RDBMS. Text and multimedia are two common types of unstructured content.</p>\n",
    "<p><strong>Structured data</strong> is when data is in a standardized format, has a well-defined structure, complies with a data model, follows a persistent order, and is easily accessed by humans and programs. This data type is generally stored in a database.</p>\n",
    "<p><strong>Open data</strong> is data that is openly accessible, exploitable, editable and shared by anyone for any purpose. Open data is licensed under an open license.</p>\n",
    "<p><strong>Data analytics</strong> is the process of examining data sets in order to find trends and draw conclusions about the information they contain.</p>\n",
    "<p><strong>Quantitative data</strong> is data that can be counted or measured in numerical values. The two main types of quantitative data are discrete data and continuous data. Height in feet, age in years, and weight in pounds are examples of quantitative data.</p>\n",
    "<p><strong>Statistics</strong> is a branch of applied mathematics that involves the collection, description, analysis, and inference of conclusions from quantitative data. The mathematical theories behind statistics rely heavily on differential and integral calculus, linear algebra, and probability theory.</p>\n",
    "<p><strong>Raw data</strong> (sometimes called source data, atomic data or primary data) is data that has not been processed for use. A distinction is sometimes made between data and information to the effect that information is the end product of data processing.</p>\n",
    "<p>A <strong>model</strong> in machine learning is the output of a machine learning algorithm run on data. A model represents what was learned by a machine learning algorithm. The model is the \"thing\" that is saved after running a machine learning algorithm on training data and represents the rules, numbers, and any other algorithm-specific data structures required to make predictions.</p>\n",
    "<p><strong>Data</strong> is a collection of discrete values that convey information, describing the quantity, quality, fact, statistics, other basic units of meaning, or simply sequences of symbols that may be further interpreted.</p>\n",
    "<p><strong>Spatial data</strong> is any type of data that directly or indirectly references a specific geographical area or location. Sometimes called geospatial data or geographic information, spatial data can also numerically represent a physical object in a geographic coordinate system.</p>\n",
    "<p><strong>Data science</strong> combines math and statistics, specialized programming, advanced analytics, artificial intelligence (AI), and machine learning with specific subject matter expertise to uncover actionable insights hidden in an organization's data.</p>\n",
    "<p><strong>Data literacy</strong> is the ability to derive meaningful information from data. It focuses on the competencies involved in working with data including the knowledge and skills to read, analyze, interpret, visualize and communicate data as well as understand the use of data in decision-making. Data literacy also means having the knowledge and skills to be a good data steward including the ability to assess the quality of data, protect and secure data, and their responsible and ethical use.</p>\n",
    "<p>In mathematics and computer science, an <strong>algorithm</strong> is a finite sequence of rigorous instructions, typically used to solve a class of specific problems or to perform a computation. Algorithms are used as specifications for performing calculations and data processing.\n",
    "<p>A <strong>database</strong> is an organized collection of structured information, or data, typically stored electronically in a computer system. A database is usually controlled by a database management system (DBMS).</p>\n",
    "<p>A <strong>dashboard</strong> is an information management tool that receives data from a linked database to provide data visualizations. It typically offers high-level information in one view that end users can use to answer a single question.</p>\n",
    "<p><strong>Qualitative data</strong> describes qualities or characteristics. It is collected using questionnaires, interviews, or observation and frequently appears in narrative form.</p>\n",
    "<p><strong>Data cleaning</strong> is the process of fixing or removing incorrect, corrupted, incorrectly formatted, duplicate, or incomplete data within a dataset.</p>\n",
    "<p>A <strong>data set</strong> (or dataset) is a collection of data. In the case of tabular data, a data set corresponds to one or more database tables, where every column of a table represents a particular variable, and each row corresponds to a given record of the data set in question.</p>\n",
    "<h2>Artificial Intelligence (AI) vs. Machine Learning (ML)</h2>\n",
    "<p><strong>AI</strong> is the broader concept of enabling a machine or system to sense, reason, act, or adapt like a human. <strong>ML</strong> is an application of AI that allows machines to extract knowledge from data and learn from it autonomously.</p>\n",
    "<p>One helpful way to remember the difference between machine learning and artificial intelligence is to imagine them as umbrella categories. Artificial intelligence is the overarching term that covers a wide variety of specific approaches and algorithms. Machine learning sits under that umbrella, but so do other major subfields, such as deep learning, robotics, expert systems, and natural language processing.</p>\n",
    "<p>While artificial intelligence encompasses the idea of a machine that can mimic human intelligence, machine learning does not. Machine learning aims to teach a machine how to perform a specific task and provide accurate results by identifying patterns.</p>\n",
    "<p>Let’s say you ask your Google Nest device, “How long is my commute today?” In this case, you ask a machine a question and receive an answer about the estimated time it will take you to drive to your office; the overall goal is for the device to perform a task successfully.</p>\n",
    "<p>In the context of this example, the goal of using ML in the overall system is to enable it to perform a task. For instance, you might train algorithms to analyze live transit and traffic data to forecast the volume and density of traffic flow. However, the scope is limited to identifying patterns, how accurate the prediction was, and learning from the data to maximize performance for that specific task.</p>\n",
    "<h2>Types of Data Visualization</h2>\n",
    "<p>A <strong>scatter plot</strong> (aka <strong>scatter chart</strong>, <strong>scatter graph</strong>) uses dots to represent values for two different numeric variables. The position of each dot on the horizontal and vertical axis indicates values for an individual data point. Scatter plots are used to observe relationships between variables.</p>\n",
    "<p><strong>Line graphs</strong> can be used to show how something changes over time. They have an x-axis (horizontal) and a y-axis (vertical). Usually, the x-axis has numbers for the time period, and the y-axis has numbers for what is being measured.</p>\n",
    "<p>A <strong>bar chart</strong> or <strong>bar graph</strong> is a chart or graph that presents categorical data with rectangular bars with heights or lengths proportional to the values that they represent. The bars can be plotted vertically or horizontally.</p>\n",
    "<p>A <strong>pie chart</strong> or <strong>circle chart</strong> summarizes a set of nominal data or displays the different values of a given variable (e.g., percentage distribution). This type of chart is a circle divided into a series of segments. Each segment represents a particular category. The area of each segment is the same proportion of a circle as the category is of the total data set.</p>\n",
    "<p><strong>Geographical maps</strong> are a great way to visualize spatial data and can be used to explore trends in different countries or regions.</p>\n",
    "<p>A <strong>table</strong> data visualization displays information in rows and columns. They record information as words or numbers. Sometimes tables include grid lines. Tables don’t only present quantitative data. They can organize multiple sets of data that relate to each other. For example, people use tables to organize programs and agendas. They may list meeting dates, speakers, locations, and times on the table.</p>\n",
    "<p><strong>Pictograms</strong> are types of charts and graphs that use icons and images to represent data.</p>\n",
    "<p><strong>Infographics</strong> display information in a graphic format along with some short explanatory text. This written content might include labels, comments, or simple descriptions.</p>\n",
    "<p>A <strong>dashboard</strong> is a deliberate collection of data visualizations organized onto one screen. Dashboards are designed to support a specific process or a set of goals. By surfacing data using appropriate, easy-to-digest visualizations, the dashboard provides critical information at a glance without the need for extensive interactivity.</p>\n",
    "<h2>Data Quality</h2>\n",
    "<p><strong>Data quality</strong> is the measure of how well-suited a data set is to serve its specific purpose.</p>\n",
    "<p>There are six main dimensions of data quality: accuracy, completeness, consistency, validity, uniqueness, and timeliness.</p>\n",
    "<p><strong>Accuracy</strong>: The data should reflect actual, real-world scenarios; the measure of accuracy can be confirmed with a verifiable source.</p>\n",
    "<p><strong>Completeness</strong>: Completeness is a measure of the data’s ability to effectively deliver all the required values that are available.</p>\n",
    "<p><strong>Consistency</strong>: Data consistency refers to the uniformity of data as it moves across networks and applications. The same data values stored in different locations should not conflict with one another.</p>  \n",
    "<p><strong>Validity</strong>: Data should be collected according to defined business rules and parameters and should conform to the right format and fall within the right range.</p>  \n",
    "<p><strong>Uniqueness</strong>: Uniqueness ensures there are no duplications or overlapping of values across all data sets. Data cleansing and deduplication can help remedy a low uniqueness score.</p>\n",
    "<p><strong>Timeliness</strong>: Timely data is data that is available when it is required. Data may be updated in real-time to ensure that it is readily available and accessible.</p>"
   ]
  },
  {
   "cell_type": "code",
   "execution_count": null,
   "id": "f62fbda3-8e09-43c4-adec-b065a0496f66",
   "metadata": {},
   "outputs": [],
   "source": []
  }
 ],
 "metadata": {
  "kernelspec": {
   "display_name": "Python 3 (ipykernel)",
   "language": "python",
   "name": "python3"
  },
  "language_info": {
   "codemirror_mode": {
    "name": "ipython",
    "version": 3
   },
   "file_extension": ".py",
   "mimetype": "text/x-python",
   "name": "python",
   "nbconvert_exporter": "python",
   "pygments_lexer": "ipython3",
   "version": "3.9.7"
  }
 },
 "nbformat": 4,
 "nbformat_minor": 5
}
