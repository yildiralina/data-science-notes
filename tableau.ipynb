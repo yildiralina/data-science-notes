{
 "cells": [
  {
   "cell_type": "markdown",
   "id": "959d4dcd-8851-4aa7-8328-dff96fcb3a88",
   "metadata": {},
   "source": [
    "<h1>Tableau</h1>"
   ]
  },
  {
   "cell_type": "markdown",
   "id": "d1ab556d-6770-4fc0-a91a-5ac1acaa5f57",
   "metadata": {},
   "source": [
    "<p><strong>Measures</strong> get aggregated, and <strong>dimensions</strong> specify the level of granularity.</p>\n",
    "<p>What is the difference between <strong>Blue</strong> Month() and <strong>Green</strong> Month() in Tableau? - Blue is a dimension, and Green is a measure; Blue ignores higher periods such as year and treats month as a category - just like Gender (June + June); Green creates a proper timeline.</p>\n",
    "<p>To remove aggregation (to plot every single row of a data set separately on a chart): Analysis &rarr; Aggregate Measures (unchecked) &rarr; Shape.</p>\n",
    "<p>Instead of switching aggregation off, we can introduce a dimension that will change the <strong>granularity level</strong> of our dashboard and, therefore, affect the aggregation. So, we're going to take Gender, and we're going to drag it on to Colour. And right away, you can see here that we have twice as many dots. We have made the chart more detailed by adding a new dimension. We can introduce more dimensions to increase granularity even further. Let's take Age and drag it into shape.</p>\n",
    "<p>You don't want to affect the visual, like colouring or other parts of your dashboard, but you want to increase the level of granularity. Let's take Age, and instead of dragging it on to Shape like we did last time, let's put it into Detail. Now you can see that the shapes haven't changed, but the granularity of the chart has changed. This option allows you to add dimensions and measures to your dashboard without affecting the visual representation but the granularity level. It's for you to control at which level the aggregation will happen.</p>\n",
    "<p>As you can see from the colour legend here, men are represented in blue circles, and women are represented in orange circles. What happens if you want to specifically interrogate one of these genders and understand what's happening there? All you have to do is go to your colour legend and click on the gender you're interested in. If you're interested in looking at women, click on women, and there you go.</p>\n",
    "<p>When would you need to create <strong>Hierarchies</strong> in Tableau? - When there are hierarchies present in the Dimensions (for example, Country &rarr; Province &rarr; City), Tableau needs to know about them for you to build your visualization.</p>\n",
    "<p>What is the main conceptual difference between <strong>Action:Filter</strong> and <strong>Action:Highlight</strong> for a Tableau Dashboard? - When you use Action:Filter &rarr; you are removing data from analysis before it is illustrated on the visualization; when you use Action:Highlight &rarr; first, all of the data is visualized, and only after that, the action is applied. If you are <strong>highlighting</strong> by, for example, a province, ensure your result graph has granularity on the same level. Each dot on the graph should represent only one province, not a combination of provinces such as AB + ON + BC. Instead, use only one province at a time, such as AB / ON / BC.</p>\n",
    "<p>Use <strong>Joins</strong> when combining data at the row level. Use <strong>Blends</strong> when data sources have different levels of granularity or/and data sources come from different systems.</p>\n",
    "<p>About <strong>Relationships</strong>. The data model consists of logical and physical layers. <strong>Relationships</strong> are more flexible than <strong>Joins</strong>. Tables are treated as separate; however, you can combine fields on the fly. Tableau will automatically connect the data at the right level of aggregation. If in doubt, use a Relationship.</p>\n",
    "<p><strong>Custom territories</strong> can be created via <strong>Groups</strong> or <strong>Geographic Roles</strong>.</p>\n",
    "<p>You can subtly add a highlighter to perform quick analytics on the chart.</p>\n",
    "<p>Analytics &rarr; Cluster is a powerful feature that lets you quickly derive insights from your data based on the variables you want to be included in your clustering analytics.</p>\n",
    "<p>You can create <strong>cross-database joins</strong> across different databases and datasets, for example, excel, SQL, and CSV files.</p>\n",
    "<p>You can combine <strong>Regression Modelling</strong> with <strong>Clustering</strong> (for example, to build Trend Lines).</p>\n",
    "<p>To facilitate future analysis, you can save clusters. It's useful to keep them as a group on your dimensions shelf after creating them. This way, you can easily bring them into your analysis later and observe how the categories you've created through clustering impact other insights derived from your analytics.</p>"
   ]
  },
  {
   "cell_type": "code",
   "execution_count": null,
   "id": "1fdd2b7b-8e7f-4b5e-aed4-7460a6458438",
   "metadata": {},
   "outputs": [],
   "source": []
  }
 ],
 "metadata": {
  "kernelspec": {
   "display_name": "Python 3 (ipykernel)",
   "language": "python",
   "name": "python3"
  },
  "language_info": {
   "codemirror_mode": {
    "name": "ipython",
    "version": 3
   },
   "file_extension": ".py",
   "mimetype": "text/x-python",
   "name": "python",
   "nbconvert_exporter": "python",
   "pygments_lexer": "ipython3",
   "version": "3.9.7"
  }
 },
 "nbformat": 4,
 "nbformat_minor": 5
}
